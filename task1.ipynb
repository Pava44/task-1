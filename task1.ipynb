{
 "cells": [
  {
   "cell_type": "code",
   "execution_count": 1,
   "id": "9a92f6cc-87ff-4989-a47a-4ae3bd22daf3",
   "metadata": {},
   "outputs": [
    {
     "name": "stdout",
     "output_type": "stream",
     "text": [
      "✅ Dataset cleaned and saved as 'amazon_cleaned.csv'\n"
     ]
    }
   ],
   "source": [
    "import pandas as pd\n",
    "\n",
    "# Load the dataset\n",
    "df = pd.read_csv(\"amazon.csv\")\n",
    "\n",
    "# Step 1: Rename columns to lowercase and replace spaces with underscores\n",
    "df.columns = df.columns.str.strip().str.lower().str.replace(\" \", \"_\")\n",
    "\n",
    "# Step 2: Drop duplicate rows\n",
    "df.drop_duplicates(inplace=True)\n",
    "\n",
    "# Step 3: Handle missing values - fill rating_count nulls with '0'\n",
    "df['rating_count'] = df['rating_count'].fillna('0')\n",
    "\n",
    "# Step 4: Clean and convert price, discount, rating and rating_count fields\n",
    "df['discounted_price'] = df['discounted_price'].str.replace('₹', '').str.replace(',', '').astype(float)\n",
    "df['actual_price'] = df['actual_price'].str.replace('₹', '').str.replace(',', '').astype(float)\n",
    "df['discount_percentage'] = df['discount_percentage'].str.replace('%', '').astype(float)\n",
    "df['rating_count'] = df['rating_count'].str.replace(',', '').astype(int)\n",
    "df['rating'] = pd.to_numeric(df['rating'], errors='coerce')\n",
    "\n",
    "# Step 5: Save cleaned dataset\n",
    "df.to_csv(\"amazon_cleaned.csv\", index=False)\n",
    "\n",
    "print(\"✅ Dataset cleaned and saved as 'amazon_cleaned.csv'\")\n"
   ]
  },
  {
   "cell_type": "code",
   "execution_count": null,
   "id": "af490038-ee84-4527-8b35-72d4570bcdba",
   "metadata": {},
   "outputs": [],
   "source": []
  },
  {
   "cell_type": "code",
   "execution_count": null,
   "id": "0c0a18c1-8b3c-4652-8848-5fe15b1ea735",
   "metadata": {},
   "outputs": [],
   "source": []
  }
 ],
 "metadata": {
  "kernelspec": {
   "display_name": "Python 3 (ipykernel)",
   "language": "python",
   "name": "python3"
  },
  "language_info": {
   "codemirror_mode": {
    "name": "ipython",
    "version": 3
   },
   "file_extension": ".py",
   "mimetype": "text/x-python",
   "name": "python",
   "nbconvert_exporter": "python",
   "pygments_lexer": "ipython3",
   "version": "3.12.7"
  }
 },
 "nbformat": 4,
 "nbformat_minor": 5
}
